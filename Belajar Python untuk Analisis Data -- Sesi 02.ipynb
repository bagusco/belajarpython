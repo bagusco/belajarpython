{
 "cells": [
  {
   "cell_type": "markdown",
   "metadata": {},
   "source": [
    "# Belajar Python untuk Analisis Data -- Sesi 02\n",
    "## disusun oleh Bagus Sartono dan Mulianto Raharjo"
   ]
  },
  {
   "cell_type": "markdown",
   "metadata": {},
   "source": [
    "# -------------------------------------------------------"
   ]
  },
  {
   "cell_type": "markdown",
   "metadata": {},
   "source": [
    "# Mendeskripsikan Data"
   ]
  },
  {
   "cell_type": "markdown",
   "metadata": {},
   "source": [
    "## Membuat Tabel Frekuensi dari Variabel Kategorik"
   ]
  },
  {
   "cell_type": "markdown",
   "metadata": {},
   "source": [
    "Sesi ini akan diawali dengan menampilkan deskripsi data kategorik dalam bentuk tabel frekuensi.  Tabel frekuensi adalah tabel yang menyajikan banyaknya amatan untuk setiap kategori variabel.  Misalnya saja kalau kita memiliki variabel jenis kelamin, kita barangkali tertarik untuk menyajikan berapa banyak individu yang laki-laki dan berapa banyak yang perempuan.\n",
    "\n",
    "Sebagai ilustrasi, kita akan gunakan data 'rumah' yang sudah kita gunakan sebelumnya pada Sesi 01"
   ]
  },
  {
   "cell_type": "code",
   "execution_count": 1,
   "metadata": {},
   "outputs": [],
   "source": [
    "#Pertama... kita import data terlebih dahulu\n",
    "import pandas as pd\n",
    "rumah = pd.read_csv('D:/rumah.csv')"
   ]
  },
  {
   "cell_type": "markdown",
   "metadata": {},
   "source": [
    "Pada dataframe rumah terdapat variabel dengan nama 'dekattol' dimana hanya ada 2 kategori, yaitu 0 jika rumahnya tidak berdekatan dengan jalan tol, dan 1 jika rumahnya berdekatan dengan jalan.  Berapa banyak yang masuk dalam kategori 0 dan kategori 1, berikut ini caranya"
   ]
  },
  {
   "cell_type": "code",
   "execution_count": 8,
   "metadata": {},
   "outputs": [
    {
     "data": {
      "text/html": [
       "<div>\n",
       "<style scoped>\n",
       "    .dataframe tbody tr th:only-of-type {\n",
       "        vertical-align: middle;\n",
       "    }\n",
       "\n",
       "    .dataframe tbody tr th {\n",
       "        vertical-align: top;\n",
       "    }\n",
       "\n",
       "    .dataframe thead th {\n",
       "        text-align: right;\n",
       "    }\n",
       "</style>\n",
       "<table border=\"1\" class=\"dataframe\">\n",
       "  <thead>\n",
       "    <tr style=\"text-align: right;\">\n",
       "      <th>col_0</th>\n",
       "      <th>frekuensi</th>\n",
       "    </tr>\n",
       "    <tr>\n",
       "      <th>dekattol</th>\n",
       "      <th></th>\n",
       "    </tr>\n",
       "  </thead>\n",
       "  <tbody>\n",
       "    <tr>\n",
       "      <th>0</th>\n",
       "      <td>46</td>\n",
       "    </tr>\n",
       "    <tr>\n",
       "      <th>1</th>\n",
       "      <td>16</td>\n",
       "    </tr>\n",
       "  </tbody>\n",
       "</table>\n",
       "</div>"
      ],
      "text/plain": [
       "col_0     frekuensi\n",
       "dekattol           \n",
       "0                46\n",
       "1                16"
      ]
     },
     "execution_count": 8,
     "metadata": {},
     "output_type": "execute_result"
    }
   ],
   "source": [
    "pd.crosstab(index=rumah['dekattol'], columns=\"frekuensi\")"
   ]
  },
  {
   "cell_type": "markdown",
   "metadata": {},
   "source": [
    "Tentu saja kita juga bisa menampilkan tabel dalam bentuk persentasenya.  Cara yang paling sederhana adalah membuat tabel berisi frekuensi terlebih dahulu kemudian membaginya dengan banyaknya amatan yang diperoleh menggunakan fungsi count()."
   ]
  },
  {
   "cell_type": "code",
   "execution_count": 11,
   "metadata": {},
   "outputs": [
    {
     "data": {
      "text/html": [
       "<div>\n",
       "<style scoped>\n",
       "    .dataframe tbody tr th:only-of-type {\n",
       "        vertical-align: middle;\n",
       "    }\n",
       "\n",
       "    .dataframe tbody tr th {\n",
       "        vertical-align: top;\n",
       "    }\n",
       "\n",
       "    .dataframe thead th {\n",
       "        text-align: right;\n",
       "    }\n",
       "</style>\n",
       "<table border=\"1\" class=\"dataframe\">\n",
       "  <thead>\n",
       "    <tr style=\"text-align: right;\">\n",
       "      <th>col_0</th>\n",
       "      <th>persentase</th>\n",
       "    </tr>\n",
       "    <tr>\n",
       "      <th>dekattol</th>\n",
       "      <th></th>\n",
       "    </tr>\n",
       "  </thead>\n",
       "  <tbody>\n",
       "    <tr>\n",
       "      <th>0</th>\n",
       "      <td>0.741935</td>\n",
       "    </tr>\n",
       "    <tr>\n",
       "      <th>1</th>\n",
       "      <td>0.258065</td>\n",
       "    </tr>\n",
       "  </tbody>\n",
       "</table>\n",
       "</div>"
      ],
      "text/plain": [
       "col_0     persentase\n",
       "dekattol            \n",
       "0           0.741935\n",
       "1           0.258065"
      ]
     },
     "execution_count": 11,
     "metadata": {},
     "output_type": "execute_result"
    }
   ],
   "source": [
    "pd.crosstab(index=rumah['dekattol'], columns=\"persentase\") / rumah['dekattol'].count()"
   ]
  },
  {
   "cell_type": "code",
   "execution_count": 27,
   "metadata": {},
   "outputs": [
    {
     "data": {
      "text/html": [
       "<div>\n",
       "<style scoped>\n",
       "    .dataframe tbody tr th:only-of-type {\n",
       "        vertical-align: middle;\n",
       "    }\n",
       "\n",
       "    .dataframe tbody tr th {\n",
       "        vertical-align: top;\n",
       "    }\n",
       "\n",
       "    .dataframe thead th {\n",
       "        text-align: right;\n",
       "    }\n",
       "</style>\n",
       "<table border=\"1\" class=\"dataframe\">\n",
       "  <thead>\n",
       "    <tr style=\"text-align: right;\">\n",
       "      <th>col_0</th>\n",
       "      <th>persentase</th>\n",
       "    </tr>\n",
       "    <tr>\n",
       "      <th>dekattol</th>\n",
       "      <th></th>\n",
       "    </tr>\n",
       "  </thead>\n",
       "  <tbody>\n",
       "    <tr>\n",
       "      <th>0</th>\n",
       "      <td>74.19</td>\n",
       "    </tr>\n",
       "    <tr>\n",
       "      <th>1</th>\n",
       "      <td>25.81</td>\n",
       "    </tr>\n",
       "  </tbody>\n",
       "</table>\n",
       "</div>"
      ],
      "text/plain": [
       "col_0     persentase\n",
       "dekattol            \n",
       "0              74.19\n",
       "1              25.81"
      ]
     },
     "execution_count": 27,
     "metadata": {},
     "output_type": "execute_result"
    }
   ],
   "source": [
    "#atau mungkin lebih senang dalam bentuk seperti ini\n",
    "round(pd.crosstab(index=rumah['dekattol'], columns=\"persentase\") / rumah['dekattol'].count()*100,2)"
   ]
  },
  {
   "cell_type": "markdown",
   "metadata": {},
   "source": [
    "Penyajian tabel frekuensi di atas barangkali akan lebih menarik jika disajikan dalam bentuk PIE CHART.\n",
    "\n",
    "Fungsi yang dapat digunakan adalah pie yang ada pada modul matplotlib\n",
    "\n",
    "Argumen dari fungsi tersebut antara lain adalah size yang merupakan ukuran dari juring, labels yang berisi nama-nama kategori yang digambarkan, dan shadow untuk menambahkan bayangan pada gambar.\n",
    "\n",
    "opsi lainnya adalah explode untuk menggeser satu atau beberapa slice/juring"
   ]
  },
  {
   "cell_type": "code",
   "execution_count": 60,
   "metadata": {},
   "outputs": [
    {
     "data": {
      "image/png": "[encoded data removed]",
      "text/plain": [
       "<Figure size 432x288 with 1 Axes>"
      ]
     },
     "metadata": {},
     "output_type": "display_data"
    }
   ],
   "source": [
    "import matplotlib.pyplot as plt\n",
    "tabel = pd.crosstab(index=rumah['dekattol'], columns=\"frekuensi\")\n",
    "\n",
    "label = 'jauh', 'dekat'\n",
    "plt.pie(tabel['frekuensi'], shadow=True, labels=label)\n",
    "plt.axis('equal')\n",
    "plt.show()"
   ]
  },
  {
   "cell_type": "markdown",
   "metadata": {},
   "source": [
    "# Menampilkan Statistik Deskriptif Variabel Numerik"
   ]
  },
  {
   "cell_type": "markdown",
   "metadata": {},
   "source": [
    "Untuk variabel yang bersifat numerik, kita umumnya umumnya tertarik pada ringkasan data berupa berbagai statistik deskriptif yang menggambarkan ukuran pemusatan dan ukuran penyebaran.\n",
    "\n",
    "Ukuran pemusatan tersebut antara lain: RATA-RATA, MEDIAN, dan MODUS\n",
    "sedangkan ukuran penyebaran dapat berupa: STANDARD DEVIATION, RAGAM (Variane), serta berbagai nilai QUANTILE\n",
    "\n",
    "Kita mungkin juga tertarik pada statistik yang menggambarkan bentuk sebaran data, seperti KURTOSIS dan SKEWNESS\n",
    "\n",
    "berikut ini beberapa fungsi yang dapat digunakan (tentu saja masih terdapat fungsi-fungsi lainnya yang menghasilkan output serupa)"
   ]
  },
  {
   "cell_type": "code",
   "execution_count": 46,
   "metadata": {},
   "outputs": [
    {
     "data": {
      "text/plain": [
       "164.59677419354838"
      ]
     },
     "execution_count": 46,
     "metadata": {},
     "output_type": "execute_result"
    }
   ],
   "source": [
    "#menyajikan RATA-RATA dari variabel luasbangunan\n",
    "rumah['luasbangunan'].mean()"
   ]
  },
  {
   "cell_type": "code",
   "execution_count": 33,
   "metadata": {},
   "outputs": [
    {
     "data": {
      "text/plain": [
       "137.0"
      ]
     },
     "execution_count": 33,
     "metadata": {},
     "output_type": "execute_result"
    }
   ],
   "source": [
    "#menyajikan MEDIAN dari variabel luasbangunan\n",
    "rumah['luasbangunan'].median()"
   ]
  },
  {
   "cell_type": "code",
   "execution_count": 34,
   "metadata": {},
   "outputs": [
    {
     "data": {
      "text/plain": [
       "72.276441001545"
      ]
     },
     "execution_count": 34,
     "metadata": {},
     "output_type": "execute_result"
    }
   ],
   "source": [
    "#menyajikan SIMPANGAN BAKU (Standard Deviation) dari variabel luasbangunan\n",
    "rumah['luasbangunan'].std()"
   ]
  },
  {
   "cell_type": "code",
   "execution_count": 35,
   "metadata": {},
   "outputs": [
    {
     "data": {
      "text/plain": [
       "-0.49695423220254975"
      ]
     },
     "execution_count": 35,
     "metadata": {},
     "output_type": "execute_result"
    }
   ],
   "source": [
    "#menyajikan KURTOSIS dari variabel luasbangunan\n",
    "rumah['luasbangunan'].kurtosis()"
   ]
  },
  {
   "cell_type": "code",
   "execution_count": 38,
   "metadata": {},
   "outputs": [
    {
     "data": {
      "text/plain": [
       "0.7645396053445936"
      ]
     },
     "execution_count": 38,
     "metadata": {},
     "output_type": "execute_result"
    }
   ],
   "source": [
    "#menyajikan SKEWNESS dari variabel luasbangunan\n",
    "rumah['luasbangunan'].skew()"
   ]
  },
  {
   "cell_type": "code",
   "execution_count": 37,
   "metadata": {},
   "outputs": [
    {
     "data": {
      "text/plain": [
       "103.2"
      ]
     },
     "execution_count": 37,
     "metadata": {},
     "output_type": "execute_result"
    }
   ],
   "source": [
    "#menyajikan QUANTILE(20%) dari variabel luasbangunan\n",
    "rumah['luasbangunan'].quantile(0.2)"
   ]
  },
  {
   "cell_type": "code",
   "execution_count": 30,
   "metadata": {},
   "outputs": [
    {
     "data": {
      "text/plain": [
       "count     62.000000\n",
       "mean     164.596774\n",
       "std       72.276441\n",
       "min       66.000000\n",
       "25%      114.000000\n",
       "50%      137.000000\n",
       "75%      219.500000\n",
       "max      331.000000\n",
       "Name: luasbangunan, dtype: float64"
      ]
     },
     "execution_count": 30,
     "metadata": {},
     "output_type": "execute_result"
    }
   ],
   "source": [
    "#menyajikan beberapa statistik deskriptif sekaligus\n",
    "rumah['luasbangunan'].describe()"
   ]
  },
  {
   "cell_type": "markdown",
   "metadata": {},
   "source": [
    "Ada kalanya kita tertarik untuk mendeskripsikan sebaran data numerik dalam bentuk visual seperti HISTOGRAM dan BOXPLOT"
   ]
  },
  {
   "cell_type": "code",
   "execution_count": 70,
   "metadata": {},
   "outputs": [
    {
     "data": {
      "image/png": "[encoded data removed]",
      "text/plain": [
       "<Figure size 432x288 with 1 Axes>"
      ]
     },
     "metadata": {
      "needs_background": "light"
     },
     "output_type": "display_data"
    }
   ],
   "source": [
    "#membuat histogram dengan 8 bins\n",
    "#warna batang biru, dengan konsentrasi 30%\n",
    "plt.hist(rumah['luasbangunan'], 8,  edgecolor='white', facecolor='blue', alpha=0.3)\n",
    "plt.show()"
   ]
  },
  {
   "cell_type": "code",
   "execution_count": 69,
   "metadata": {},
   "outputs": [
    {
     "data": {
      "image/png": "[encoded data removed]",
      "text/plain": [
       "<Figure size 432x288 with 1 Axes>"
      ]
     },
     "metadata": {
      "needs_background": "light"
     },
     "output_type": "display_data"
    }
   ],
   "source": [
    "#membuat histogram dengan 12 bins\n",
    "#warna batang biru, dengan konsentrasi 20%\n",
    "plt.hist(rumah['luasbangunan'], 8,  edgecolor='white', facecolor='blue', alpha=0.2)\n",
    "plt.show()"
   ]
  },
  {
   "cell_type": "code",
   "execution_count": 52,
   "metadata": {},
   "outputs": [
    {
     "data": {
      "image/png": "[encoded data removed]",
      "text/plain": [
       "<Figure size 432x288 with 1 Axes>"
      ]
     },
     "metadata": {
      "needs_background": "light"
     },
     "output_type": "display_data"
    }
   ],
   "source": [
    "#membuat BOXPLOT dengan posisi VERTIKAL\n",
    "plt.boxplot(rumah['luasbangunan'])\n",
    "plt.show()"
   ]
  },
  {
   "cell_type": "code",
   "execution_count": 61,
   "metadata": {},
   "outputs": [
    {
     "data": {
      "image/png": "[encoded data removed]",
      "text/plain": [
       "<Figure size 432x288 with 1 Axes>"
      ]
     },
     "metadata": {
      "needs_background": "light"
     },
     "output_type": "display_data"
    }
   ],
   "source": [
    "#membuat BOXPLOT dengan posisi HORIZONTAL\n",
    "plt.boxplot(rumah['luasbangunan'], vert=False)\n",
    "plt.show()"
   ]
  },
  {
   "cell_type": "code",
   "execution_count": 71,
   "metadata": {},
   "outputs": [
    {
     "data": {
      "image/png": "[encoded data removed]",
      "text/plain": [
       "<Figure size 432x288 with 1 Axes>"
      ]
     },
     "metadata": {
      "needs_background": "light"
     },
     "output_type": "display_data"
    }
   ],
   "source": [
    "#membuat BOXPLOT dengan posisi HORIZONTAL dengan NOTCH pada bagian median\n",
    "plt.boxplot(rumah['luasbangunan'], vert=False, notch=True)\n",
    "plt.show()"
   ]
  },
  {
   "cell_type": "code",
   "execution_count": null,
   "metadata": {},
   "outputs": [],
   "source": []
  }
 ],
 "metadata": {
  "kernelspec": {
   "display_name": "Python 3",
   "language": "python",
   "name": "python3"
  },
  "language_info": {
   "codemirror_mode": {
    "name": "ipython",
    "version": 3
   },
   "file_extension": ".py",
   "mimetype": "text/x-python",
   "name": "python",
   "nbconvert_exporter": "python",
   "pygments_lexer": "ipython3",
   "version": "3.7.0"
  }
 },
 "nbformat": 4,
 "nbformat_minor": 2
}
